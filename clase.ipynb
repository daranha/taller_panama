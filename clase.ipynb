{
 "cells": [
  {
   "cell_type": "code",
   "execution_count": 0,
   "metadata": {
    "collapsed": false
   },
   "outputs": [
   ],
   "source": [
    "%auto\n",
    "typeset_mode(True, display=False)"
   ]
  },
  {
   "cell_type": "code",
   "execution_count": 0,
   "metadata": {
    "collapsed": false
   },
   "outputs": [
   ],
   "source": [
    "polygon([(0,0),(1,0),(0,1), (1,1)], color = 'black')"
   ]
  },
  {
   "cell_type": "code",
   "execution_count": 0,
   "metadata": {
    "collapsed": false
   },
   "outputs": [
   ],
   "source": [
    "polygon([(0,0),(1,0),(1,1), (0,1)], color = 'darkgreen', axes = False)"
   ]
  },
  {
   "cell_type": "code",
   "execution_count": 0,
   "metadata": {
    "collapsed": false
   },
   "outputs": [
   ],
   "source": [
    "n = 10\n",
    "V = []\n",
    "for i in range(n):\n",
    "    v = exp(2*pi*I*i/n)\n",
    "    V += [v]\n",
    "    \n",
    "polygon([ (z.real(), z.imag() ) for z in V], color = 'darkblue', axes = False )\n",
    "line([ (z.real(), z.imag() ) for z in V], color = 'blue', thickness = 2 )"
   ]
  },
  {
   "cell_type": "code",
   "execution_count": 0,
   "metadata": {
    "collapsed": false
   },
   "outputs": [
   ],
   "source": [
   ]
  },
  {
   "cell_type": "code",
   "execution_count": 0,
   "metadata": {
    "collapsed": false
   },
   "outputs": [
   ],
   "source": [
    "line?"
   ]
  },
  {
   "cell_type": "code",
   "execution_count": 0,
   "metadata": {
    "collapsed": false
   },
   "outputs": [
   ],
   "source": [
    "n = 10\n",
    "V = []\n",
    "for i in range(n):\n",
    "    v = exp(2*pi*I*i/n)\n",
    "    V += [v]\n",
    "    \n",
    "P = Graphics()\n",
    "P += polygon([ (z.real(), z.imag() ) for z in V], color = 'gray', axes = False )\n",
    "P += line([ (z.real(), z.imag() ) for z in V], color = 'navy', thickness = 3 )\n",
    "P += line([ (V[9].real(), V[9].imag()), (1,0)], color = 'purple', thickness = 3 )\n",
    "P.show(aspect_ratio = 1, axes = False)"
   ]
  },
  {
   "cell_type": "code",
   "execution_count": 0,
   "metadata": {
    "collapsed": false
   },
   "outputs": [
   ],
   "source": [
    "n = 10\n",
    "G = Graphics()\n",
    "for n in range(3,11):\n",
    "    V = []\n",
    "    for i in range(n):\n",
    "        v = exp(2*pi*I*i/n)\n",
    "        V += [v]\n",
    "\n",
    "    G += polygon([ (z.real(), z.imag() ) for z in V], color = 'darkblue', axes = False, fill=0 )\n",
    "\n",
    "G.show(axes=False, aspect_ratio=1)"
   ]
  },
  {
   "cell_type": "code",
   "execution_count": 0,
   "metadata": {
    "collapsed": false
   },
   "outputs": [
   ],
   "source": [
   ]
  },
  {
   "cell_type": "code",
   "execution_count": 0,
   "metadata": {
    "collapsed": false
   },
   "outputs": [
   ],
   "source": [
   ]
  },
  {
   "cell_type": "code",
   "execution_count": 0,
   "metadata": {
    "collapsed": false
   },
   "outputs": [
   ],
   "source": [
    "n = 10\n",
    "triangulos  = []\n",
    "\n",
    "for i in range(n):\n",
    "    B = (cos((2*i-1)*pi/n), sin((2*i-1)*pi/n))\n",
    "    C = (cos((2*i+1)*pi/n), sin((2*i+1)*pi/n))\n",
    "    if i%2 == 1:\n",
    "        B, C = C, B\n",
    "    triangulos.append((0, (0,0), B, C))\n",
    "    \n",
    "    \n",
    "\n",
    "P = Graphics()\n",
    "for verts in triangulos:\n",
    "    P += line([ (z[0],z[1]) for z in (verts[1]), (verts[2]), (verts[3]), (verts[1])], thickness = 1)\n",
    "P.show(aspect_ratio =1, axes = False)"
   ]
  }
 ],
 "metadata": {
  "kernelspec": {
   "display_name": "SageMath (stable)",
   "language": "sagemath",
   "metadata": {
    "cocalc": {
     "description": "Open-source mathematical software system",
     "priority": 10,
     "url": "https://www.sagemath.org/"
    }
   },
   "name": "sagemath"
  },
  "language_info": {
   "codemirror_mode": {
    "name": "ipython",
    "version": 2
   },
   "file_extension": ".py",
   "mimetype": "text/x-python",
   "name": "python",
   "nbconvert_exporter": "python",
   "pygments_lexer": "ipython2",
   "version": "2.7.15"
  }
 },
 "nbformat": 4,
 "nbformat_minor": 0
}
