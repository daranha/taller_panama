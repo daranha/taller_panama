{
 "cells": [
  {
   "cell_type": "code",
   "execution_count": 0,
   "metadata": {
    "collapsed": false
   },
   "outputs": [
   ],
   "source": [
    "%auto\n",
    "typeset_mode(True, display=False)"
   ]
  },
  {
   "cell_type": "code",
   "execution_count": 0,
   "metadata": {
    "collapsed": false
   },
   "outputs": [
   ],
   "source": [
    "polygon([(0,0),(1,0),(0,1), (1,1)], color = 'black')"
   ]
  },
  {
   "cell_type": "code",
   "execution_count": 0,
   "metadata": {
    "collapsed": false
   },
   "outputs": [
   ],
   "source": [
    "polygon([(0,0),(1,0),(1,1), (0,1)], color = 'darkgreen', axes = False)"
   ]
  },
  {
   "cell_type": "code",
   "execution_count": 0,
   "metadata": {
    "collapsed": false
   },
   "outputs": [
   ],
   "source": [
    "n = 10\n",
    "V = []\n",
    "for i in range(n):\n",
    "    v = exp(2*pi*I*i/n)\n",
    "    V += [v]\n",
    "    \n",
    "polygon([ (z.real(), z.imag() ) for z in V], color = 'darkblue', axes = False )"
   ]
  },
  {
   "cell_type": "code",
   "execution_count": 0,
   "metadata": {
    "collapsed": false
   },
   "outputs": [
   ],
   "source": [
    "n = 10\n",
    "V = []\n",
    "for i in range(n):\n",
    "    v = exp(2*pi*I*i/n)\n",
    "    V += [v]\n",
    "    \n",
    "polygon([ (z.real(), z.imag() ) for z in V], color = 'darkblue', axes = False )\n",
    "line([ (z.real(), z.imag() ) for z in V], color = 'blue', thickness = 2 )"
   ]
  },
  {
   "cell_type": "code",
   "execution_count": 0,
   "metadata": {
    "collapsed": false
   },
   "outputs": [
   ],
   "source": [
    "n = 10\n",
    "V = []\n",
    "for i in range(n):\n",
    "    v = exp(2*pi*I*i/n)\n",
    "    V += [v]\n",
    "    \n",
    "P = Graphics()\n",
    "P += polygon([ (z.real(), z.imag() ) for z in V], color = 'gray', axes = False )\n",
    "P += line([ (z.real(), z.imag() ) for z in V], color = 'navy', thickness = 3 )\n",
    "P += line([ (V[9].real(), V[9].imag()), (1,0)], color = 'purple', thickness = 3 )\n",
    "P.show(aspect_ratio = 1, axes = False)"
   ]
  },
  {
   "cell_type": "code",
   "execution_count": 0,
   "metadata": {
    "collapsed": false
   },
   "outputs": [
   ],
   "source": [
    "line?"
   ]
  },
  {
   "cell_type": "code",
   "execution_count": 0,
   "metadata": {
    "collapsed": false
   },
   "outputs": [
   ],
   "source": [
    "n = 10\n",
    "triangulos  = []\n",
    "\n",
    "for i in range(n):\n",
    "    B = (cos((2*i-1)*pi/n), sin((2*i-1)*pi/n))\n",
    "    C = (cos((2*i+1)*pi/n), sin((2*i+1)*pi/n))\n",
    "    if i%2 == 1:\n",
    "        B, C = C, B\n",
    "    triangulos.append((0, (0,0), B, C))\n",
    "    \n",
    "    \n",
    "\n",
    "P = Graphics()\n",
    "for verts in triangulos:\n",
    "    P += line([ (z[0],z[1]) for z in (verts[1]), (verts[2]), (verts[3]), (verts[1])], thickness = 1)\n",
    "P.show(aspect_ratio =1, axes = False)"
   ]
  },
  {
   "cell_type": "code",
   "execution_count": 0,
   "metadata": {
    "collapsed": false
   },
   "outputs": [
   ],
   "source": [
    "n = 10\n",
    "phi = 1.6183\n",
    "triangulos  = []\n",
    "\n",
    "def sust(triangulos):\n",
    "    result[]\n",
    "    for tipo, A, B, C in triangulos:\n",
    "        if tipo == 0: #subdivide el triángulo agudo\n",
    "            P = (A[0] - (B[0] - A[0])/phi , A[1] - (B[1] - A[1])/phi )\n",
    "            result += [(0, C, P, B), (1, P, A, C)]\n",
    "        else:     #subdivide el triángulo obtuso\n",
    "            Q = \n",
    "\n",
    "for i in range(n):\n",
    "    B = (cos((2*i-1)*pi/n), sin((2*i-1)*pi/n))\n",
    "    C = (cos((2*i+1)*pi/n), sin((2*i+1)*pi/n))\n",
    "    if i%2 == 1:\n",
    "        B, C = C, B\n",
    "    triangulos.append((0, (0,0), B, C))\n",
    "    \n",
    "    \n",
    "\n",
    "P = Graphics()\n",
    "for verts in triangulos:\n",
    "    P += line([ (z[0],z[1]) for z in (verts[1]), (verts[2]), (verts[3]), (verts[1])], thickness = 1)\n",
    "P.show(aspect_ratio =1, axes = False)"
   ]
  },
  {
   "cell_type": "code",
   "execution_count": 0,
   "metadata": {
    "collapsed": false
   },
   "outputs": [
   ],
   "source": [
    "golden_ratio = 1.618033988749894848204586834365638117720309179805762862\n",
    "\n",
    "def subdivide(triangles):\n",
    "    result = []\n",
    "    for color, A, B, C in triangles:\n",
    "        if color == 0:\n",
    "            # Subdivide green triangle\n",
    "            P =  (A[0] + (B[0] - A[0])/ golden_ratio , A[1] + (B[1] - A[1])/ golden_ratio) \n",
    "            result += [(0, C, P, B), (1, P, C, A)]\n",
    "        else:\n",
    "            Q = (B[0] + (A[0] - B[0])/ golden_ratio, B[1] + (A[1] - B[1])/ golden_ratio) \n",
    "            R = (B[0] + (C[0] - B[0])/ golden_ratio, B[1] + (C[1] - B[1])/ golden_ratio) \n",
    "            result += [(1, R, C, A), (1, Q, R, B), (0, R, Q, A)]\n",
    "    return result\n",
    "\n",
    "# Create wheel of red triangles around the origin\n",
    "triangles = []\n",
    "for i in xrange(10):\n",
    "    B = (cos((2*i - 1)*pi/10), sin((2*i - 1)*pi/10))\n",
    "    C = (cos((2*i + 1)*pi/10), sin((2*i + 1)*pi/10))\n",
    "    if i % 2 == 1:\n",
    "        B, C = C, B  # Make sure to mirror every second triangle\n",
    "    triangles.append((0,(0,0),B,C))\n",
    "\n",
    "# Draw n iterates\n",
    "n = 6\n",
    "for i in range(n): \n",
    "    P = Graphics()\n",
    "    for verts in triangles:\n",
    "        P += polygon([(z[0], z[1]) for z in (verts[1:])], color=['green', 'orange'][verts[0]])\n",
    "        P += line([(z[0], z[1]) for z in (verts[3]), (verts[1]), (verts[2])], color='black', thickness=1)\n",
    "        #if z[0] >= 0:\n",
    "          #  P += line([(z[0],z[1]) for z in (verts[2]),(verts[3])], color='black', thickness = 0.8, linestyle=':')\n",
    "    triangles = subdivide(triangles)\n",
    "\n",
    "\n",
    "P.show(axes=False, aspect_ratio=1)"
   ]
  },
  {
   "cell_type": "code",
   "execution_count": 0,
   "metadata": {
    "collapsed": false
   },
   "outputs": [
   ],
   "source": [
    "golden_ratio = 2.4142\n",
    "r2 = 1.4142\n",
    "rr = golden_ratio/r2\n",
    "\n",
    "def subdivide(triangles):\n",
    "    result = []\n",
    "    for color, A, B, C in triangles:\n",
    "        if color == 0:\n",
    "            # Subdivide green triangle\n",
    "            P =  (A[0] + (B[0] - A[0])/ golden_ratio , A[1] + (B[1] - A[1])/ golden_ratio) \n",
    "            O =  (A[0] + (C[0] - A[0])/ golden_ratio , A[1] + (C[1] - A[1])/ golden_ratio)\n",
    "            result += [(0, A, P, O), (0, (P[0]+O[0] - A[0] , P[1]+O[1] - A[1]), O, P), (1, (P[0]+O[0] -A[0], P[1]+O[1] -A[1]), P, B), (1, (P[0]+O[0] -A[0], P[1]+O[1] -A[1]), O, C), (2, (P[0]+O[0] - A[0] , P[1]+O[1] - A[1]), B, C) ]\n",
    "        else:\n",
    "             if color == 1:   # Subdivide blue triangle  \n",
    "                # Q = B + (A - B) / golden_ratio     \n",
    "                # R = B + (C - B) / golden_ratio\n",
    "                #  result += [(1, R, C, A), (1, Q, R, B), (0, R, Q, A)]\n",
    "                \n",
    "                Q = (A[0] + (B[0] - A[0])/ golden_ratio , A[1] + (B[1] - A[1])/ golden_ratio) \n",
    "                S =  (C[0] - (C[0] - A[0])/ golden_ratio , C[1] - (C[1] - A[1])/ golden_ratio)\n",
    "                T = (B[0] + (C[0] - B[0])/ (1 + golden_ratio), B[1] + (C[1] - B[1])/ (1 + golden_ratio)  )\n",
    "                Y = (C[0] + (B[0] - C[0])/ (1 + golden_ratio), C[1] + (B[1] - C[1])/ (1 + golden_ratio)  )\n",
    "                U = (A[0] + (C[0] - A[0] + B[0] - A[0])/(1 + golden_ratio),  A[1] + (C[1] - A[1] + B[1] - A[1])/(1 + golden_ratio) )\n",
    "                result += [(1, U, S, A), (1, U, Y, T), (1, T, Q, B), (0, A, Q, U), (0, T, U, Q), (0, U, Y, S), (0, C, S, Y)]\n",
    "             else:\n",
    "                 # Subdivide cachito\n",
    "                 M = (A[0] + (B[0] - A[0])/ rr , A[1] + (B[1] - A[1])/ rr) \n",
    "                 N = (A[0] + (C[0] - A[0])/ rr , A[1] + (C[1] - A[1])/ rr )\n",
    "                 V = (C[0] + (B[0] - C[0])/ golden_ratio, C[1] + (B[1] - C[1])/ golden_ratio)\n",
    "                 X = (B[0] + (C[0] - B[0])/ golden_ratio, B[1] + (C[1] - B[1])/ golden_ratio)\n",
    "                 result += [(2, M, B, X), (2, N, V, C), (1, X, M, A), (1, V, N, A), (0, A, X, V)]\n",
    "    return result\n",
    "\n",
    "# Create wheel of red triangles around the origin\n",
    "triangles = []\n",
    "for i in xrange(4):\n",
    "    B = (cos((2*i - 1)*pi/4), sin((2*i - 1)*pi/4))\n",
    "    C = (cos((2*i + 1)*pi/4), sin((2*i + 1)*pi/4))\n",
    "    if i % 2 == 1:\n",
    "        B, C = C, B  # Make sure to mirror every second triangle\n",
    "    triangles.append((1,(0,0),B,C))\n",
    "\n",
    "# Draw n iterates\n",
    "n = 5\n",
    "for i in range(n): \n",
    "    P = Graphics()\n",
    "    for verts in triangles:\n",
    "        #P += polygon([(z[0], z[1]) for z in (verts[1:])], color=['green', 'indigo'][verts[0]])\n",
    "        P += line([(z[0], z[1]) for z in (verts[3]), (verts[1]), (verts[2])], color='black', thickness=.5)\n",
    "        #if z[0] >= 0:\n",
    "         #   P += line([(z[0],z[1]) for z in (verts[2]),(verts[3])], color='black', thickness = 0.8, linestyle=':')\n",
    "    triangles = subdivide(triangles)\n",
    "    P.show(axes=False, aspect_ratio=1)"
   ]
  },
  {
   "cell_type": "code",
   "execution_count": 0,
   "metadata": {
    "collapsed": false
   },
   "outputs": [
   ],
   "source": [
    "golden_ratio = 2.4142\n",
    "r2 = 1.4142\n",
    "rr = golden_ratio/r2\n",
    "\n",
    "def subdivide(triangles):\n",
    "    result = []\n",
    "    for color, A, B, C in triangles:\n",
    "        if color == 0:\n",
    "            # Subdivide green triangle\n",
    "            P =  (A[0] + (B[0] - A[0])/ golden_ratio , A[1] + (B[1] - A[1])/ golden_ratio) \n",
    "            O =  (A[0] + (C[0] - A[0])/ golden_ratio , A[1] + (C[1] - A[1])/ golden_ratio)\n",
    "            result += [(0, A, P, O), (0, (P[0]+O[0] - A[0] , P[1]+O[1] - A[1]), O, P), (1, (P[0]+O[0] -A[0], P[1]+O[1] -A[1]), P, B), (1, (P[0]+O[0] -A[0], P[1]+O[1] -A[1]), O, C), (2, (P[0]+O[0] - A[0] , P[1]+O[1] - A[1]), B, C) ]\n",
    "        else:\n",
    "             if color == 1:   # Subdivide blue triangle  \n",
    "                # Q = B + (A - B) / golden_ratio     \n",
    "                # R = B + (C - B) / golden_ratio\n",
    "                #  result += [(1, R, C, A), (1, Q, R, B), (0, R, Q, A)]\n",
    "                \n",
    "                Q = (A[0] + (B[0] - A[0])/ golden_ratio , A[1] + (B[1] - A[1])/ golden_ratio) \n",
    "                S =  (C[0] - (C[0] - A[0])/ golden_ratio , C[1] - (C[1] - A[1])/ golden_ratio)\n",
    "                T = (B[0] + (C[0] - B[0])/ (1 + golden_ratio), B[1] + (C[1] - B[1])/ (1 + golden_ratio)  )\n",
    "                Y = (C[0] + (B[0] - C[0])/ (1 + golden_ratio), C[1] + (B[1] - C[1])/ (1 + golden_ratio)  )\n",
    "                U = (A[0] + (C[0] - A[0] + B[0] - A[0])/(1 + golden_ratio),  A[1] + (C[1] - A[1] + B[1] - A[1])/(1 + golden_ratio) )\n",
    "                result += [(1, U, S, A), (1, U, Y, T), (1, T, Q, B), (0, A, Q, U), (0, T, U, Q), (0, U, Y, S), (0, C, S, Y)]\n",
    "             else:\n",
    "                 # Subdivide cachito\n",
    "                 M = (A[0] + (B[0] - A[0])/ rr , A[1] + (B[1] - A[1])/ rr) \n",
    "                 N = (A[0] + (C[0] - A[0])/ rr , A[1] + (C[1] - A[1])/ rr )\n",
    "                 V = (C[0] + (B[0] - C[0])/ golden_ratio, C[1] + (B[1] - C[1])/ golden_ratio)\n",
    "                 X = (B[0] + (C[0] - B[0])/ golden_ratio, B[1] + (C[1] - B[1])/ golden_ratio)\n",
    "                 result += [(2, M, B, X), (2, N, V, C), (1, X, M, A), (1, V, N, A), (0, A, X, V)]\n",
    "    return result\n",
    "\n",
    "# Create wheel of red triangles around the origin\n",
    "triangles = []\n",
    "for i in xrange(8):\n",
    "    B = (cos((2*i - 1)*pi/8), sin((2*i - 1)*pi/8))\n",
    "    C = (cos((2*i + 1)*pi/8), sin((2*i + 1)*pi/8))\n",
    "    if i % 2 == 1:\n",
    "        B, C = C, B  # Make sure to mirror every second triangle\n",
    "    triangles.append((0,(0,0),B,C))\n",
    "\n",
    "# Draw n iterates\n",
    "n = 5\n",
    "for i in range(n): \n",
    "    P = Graphics()\n",
    "    for verts in triangles:\n",
    "        #P += polygon([(z[0], z[1]) for z in (verts[1:])], color=['green', 'indigo'][verts[0]])\n",
    "        P += line([(z[0], z[1]) for z in (verts[3]), (verts[1]), (verts[2])], color='black', thickness=.8)\n",
    "        #if z[0] >= 0:\n",
    "         #   P += line([(z[0],z[1]) for z in (verts[2]),(verts[3])], color='black', thickness = 0.8, linestyle=':')\n",
    "    P.show(axes=False, aspect_ratio=1)\n",
    "    triangles = subdivide(triangles)"
   ]
  }
 ],
 "metadata": {
  "kernelspec": {
   "display_name": "SageMath (stable)",
   "language": "sagemath",
   "metadata": {
    "cocalc": {
     "description": "Open-source mathematical software system",
     "priority": 10,
     "url": "https://www.sagemath.org/"
    }
   },
   "name": "sagemath"
  },
  "language_info": {
   "codemirror_mode": {
    "name": "ipython",
    "version": 2
   },
   "file_extension": ".py",
   "mimetype": "text/x-python",
   "name": "python",
   "nbconvert_exporter": "python",
   "pygments_lexer": "ipython2",
   "version": "2.7.15"
  }
 },
 "nbformat": 4,
 "nbformat_minor": 0
}